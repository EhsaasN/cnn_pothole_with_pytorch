{
 "cells": [
  {
   "cell_type": "code",
   "execution_count": 1,
   "id": "03624938-d123-405e-bbc7-e3546755df69",
   "metadata": {},
   "outputs": [],
   "source": [
    "import numpy as np\n",
    "from matplotlib import pyplot as plt"
   ]
  },
  {
   "cell_type": "code",
   "execution_count": 2,
   "id": "c9b5c930-0bdc-4e4e-93ce-68265f93efd1",
   "metadata": {},
   "outputs": [],
   "source": [
    "import pandas as pb\n",
    "from PIL import Image"
   ]
  },
  {
   "cell_type": "code",
   "execution_count": 3,
   "id": "5445cb95-66ff-4a59-95fb-482f330a265d",
   "metadata": {},
   "outputs": [],
   "source": [
    "\n",
    "y_true=np.array([1,1,1,1,0])"
   ]
  },
  {
   "cell_type": "code",
   "execution_count": 4,
   "id": "87441e39-5919-4287-a398-fc0834f477c8",
   "metadata": {},
   "outputs": [],
   "source": [
    "image=[Image.open(r\"C:\\Users\\ehsaa\\OneDrive\\Desktop\\cnn\\download.jpg\"),\n",
    "Image.open(r\"C:\\Users\\ehsaa\\OneDrive\\Desktop\\cnn\\download (1).jpg\"),\n",
    "Image.open(r\"C:\\Users\\ehsaa\\OneDrive\\Desktop\\cnn\\download (2).jpg\"),\n",
    "Image.open(r\"C:\\Users\\ehsaa\\OneDrive\\Desktop\\cnn\\download (3).jpg\"),\n",
    "Image.open(r\"C:\\Users\\ehsaa\\OneDrive\\Desktop\\cnn\\download (4).jpg\")]"
   ]
  },
  {
   "cell_type": "code",
   "execution_count": 5,
   "id": "59c46379-8f57-4e96-b028-6d7e7ccc6861",
   "metadata": {},
   "outputs": [],
   "source": [
    "for i in range(len(image)):\n",
    "    image[i]=image[i].convert(\"L\")\n",
    "    image[i]=image[i].resize((20,20))\n",
    "    image[i]=np.array(image[i])\n",
    "    #print(image[i].shape)\n",
    "    #image[i]=image[i].flatten()\n",
    "    #image[i].shape"
   ]
  },
  {
   "cell_type": "code",
   "execution_count": 6,
   "id": "1bdc607c-dabd-4dfc-af38-e3e0e8b97269",
   "metadata": {},
   "outputs": [
    {
     "name": "stdout",
     "output_type": "stream",
     "text": [
      "400\n",
      "(20, 20)\n"
     ]
    },
    {
     "data": {
      "image/png": "[encoded data removed]",
      "text/plain": [
       "<Figure size 640x480 with 1 Axes>"
      ]
     },
     "metadata": {},
     "output_type": "display_data"
    }
   ],
   "source": [
    "plt.imshow(image[2])\n",
    "print(image[2].size)\n",
    "print(image[2].shape)\n",
    "y_train=image"
   ]
  },
  {
   "cell_type": "code",
   "execution_count": 7,
   "id": "01eee51a-a2fc-45c1-8559-52cde712ee15",
   "metadata": {},
   "outputs": [],
   "source": [
    "class Perceptron:\n",
    "    def _init__ (self):\n",
    "        self.weights = weights\n",
    "        self.bias = bias\n",
    "    def initialise_parameters(self,x):\n",
    "        pass\n",
    "    def actication(self,z):\n",
    "        pass\n",
    "    def activation_derivative(self,z):\n",
    "        pass\n",
    "    def forward_propagation(self,x):\n",
    "        pass\n",
    "    def compute_bce(self,y,y_pred):\n",
    "        pass\n",
    "    def bce_derivative(self,y,y_pred):\n",
    "        pass\n",
    "    def compute_gradients(self,x,y_true,y_pred):\n",
    "        pass\n",
    "    def train(self,x, num_ephocs):\n",
    "        pass"
   ]
  },
  {
   "cell_type": "code",
   "execution_count": 8,
   "id": "2f5f853a-70c1-4e7a-92c5-31db8fb9e6b3",
   "metadata": {},
   "outputs": [],
   "source": [
    "def initialize_parameters(self,x):\n",
    "    n_features=len(x[0])\n",
    "    self.weights=np.random.randn(n_features,1)*0.01\n",
    "    self.bias=0\n",
    "    #return self.weights\n",
    "Perceptron.initialize_parameters=initialize_parameters"
   ]
  },
  {
   "cell_type": "code",
   "execution_count": 9,
   "id": "951ca5b4-8fe4-49c4-b325-0884deb1f53b",
   "metadata": {},
   "outputs": [],
   "source": [
    "# p=Perceptron()\n",
    "# p.initialize_parameters(image[0])"
   ]
  },
  {
   "cell_type": "code",
   "execution_count": 10,
   "id": "71e78316-9e57-4aac-b52f-0b798c8d7d8d",
   "metadata": {},
   "outputs": [],
   "source": [
    "def activation(self,z):\n",
    "    return 1/(1+np.exp(-z))\n",
    "Perceptron.activation=activation"
   ]
  },
  {
   "cell_type": "code",
   "execution_count": 11,
   "id": "24b1b80b-abe1-44bd-8dcd-d4c4c201650a",
   "metadata": {},
   "outputs": [],
   "source": [
    "def activation_derivative(self,z):\n",
    "    a=self.activation(z)\n",
    "    return a*(1-a)\n",
    "Perceptron.activation_derivative=activation_derivative"
   ]
  },
  {
   "cell_type": "code",
   "execution_count": 12,
   "id": "b2e768cf-599a-47ea-9968-c24e6d1f05ca",
   "metadata": {},
   "outputs": [],
   "source": [
    "def forward_propagation(self,X):\n",
    "    z=np.dot(X,self.weights)+self.bias\n",
    "    ypred=self.activation(z)\n",
    "    return ypred\n",
    "Perceptron.forward_propagation=forward_propagation"
   ]
  },
  {
   "cell_type": "code",
   "execution_count": 22,
   "id": "8ef025d0-9d72-42e3-b09b-674148c04f13",
   "metadata": {},
   "outputs": [],
   "source": [
    "def compute_bce(self,y,y_pred):\n",
    "    m=len(y[0])\n",
    "    bce=(1/m)*np.sum(-(y_true*np.log(y_pred)+(1-y_true)*np.log(1-y_pred)))\n",
    "    return bce\n",
    "Perceptron.compute_bce=compute_bce"
   ]
  },
  {
   "cell_type": "code",
   "execution_count": 14,
   "id": "237a6a50-1084-43ee-82c8-865e2e2db8c6",
   "metadata": {},
   "outputs": [],
   "source": [
    "def bce_derivative(self,y,y_pred):\n",
    "    m=y.shape[0]\n",
    "    return (1/m)*(y_pred-y)/(y_pred*(1-y_pred))\n",
    "Perceptron.bce_derivative=bce_derivative"
   ]
  },
  {
   "cell_type": "code",
   "execution_count": 15,
   "id": "a32d794e-2faa-4bea-ae7c-3d2dca103cef",
   "metadata": {},
   "outputs": [],
   "source": [
    "def compute_gradients(self,X,y_true,y_pred):\n",
    "    d_pred_loss=self.bce_derivative(y_true,y_pred)\n",
    "    d_activation_loss=self.activation_derivative(y_pred)\n",
    "    dl_dz=d_pred_loss*d_activation_loss\n",
    "    dl_dw=np.dot(X.T,dl_dz)/X.shape[0]\n",
    "    dl_db=np.mean(dl_dz,axis=0)\n",
    "    return dl_dw,dl_db\n",
    "Perceptron.compute_gradients=compute_gradients"
   ]
  },
  {
   "cell_type": "code",
   "execution_count": 16,
   "id": "2fad0dbc-5b9d-40dc-bef5-428db059f2ac",
   "metadata": {},
   "outputs": [],
   "source": [
    "def train(self,X,num_epochs):\n",
    "    lr=0.1\n",
    "    loss=0\n",
    "    for i in range(num_epochs):\n",
    "        y_pred=self.forward_propagation(X).reshape(-1,1)\n",
    "        loss=self.compute_bce(X,y_pred)\n",
    "        dw,db=compute_gradients(X,y_train,y_pred)\n",
    "        self.weights=self.weights-dw*lr\n",
    "        self.bias=self.bias-db*lr\n",
    "        print(f\"Epoch {i+1} loss {loss}\")\n",
    "    return loss\n",
    "Perceptron.train=train"
   ]
  },
  {
   "cell_type": "code",
   "execution_count": 23,
   "id": "49a11a5d-37d0-4f58-8b3f-fc9325081736",
   "metadata": {},
   "outputs": [
    {
     "ename": "TypeError",
     "evalue": "compute_gradients() missing 1 required positional argument: 'y_pred'",
     "output_type": "error",
     "traceback": [
      "\u001b[1;31m---------------------------------------------------------------------------\u001b[0m",
      "\u001b[1;31mTypeError\u001b[0m                                 Traceback (most recent call last)",
      "Cell \u001b[1;32mIn[23], line 3\u001b[0m\n\u001b[0;32m      1\u001b[0m p\u001b[38;5;241m=\u001b[39mPerceptron()\n\u001b[0;32m      2\u001b[0m p\u001b[38;5;241m.\u001b[39minitialize_parameters(y_train)\n\u001b[1;32m----> 3\u001b[0m \u001b[43mp\u001b[49m\u001b[38;5;241;43m.\u001b[39;49m\u001b[43mtrain\u001b[49m\u001b[43m(\u001b[49m\u001b[43my_train\u001b[49m\u001b[43m,\u001b[49m\u001b[38;5;241;43m5\u001b[39;49m\u001b[43m)\u001b[49m\n",
      "Cell \u001b[1;32mIn[16], line 7\u001b[0m, in \u001b[0;36mtrain\u001b[1;34m(self, X, num_epochs)\u001b[0m\n\u001b[0;32m      5\u001b[0m y_pred\u001b[38;5;241m=\u001b[39m\u001b[38;5;28mself\u001b[39m\u001b[38;5;241m.\u001b[39mforward_propagation(X)\u001b[38;5;241m.\u001b[39mreshape(\u001b[38;5;241m-\u001b[39m\u001b[38;5;241m1\u001b[39m,\u001b[38;5;241m1\u001b[39m)\n\u001b[0;32m      6\u001b[0m loss\u001b[38;5;241m=\u001b[39m\u001b[38;5;28mself\u001b[39m\u001b[38;5;241m.\u001b[39mcompute_bce(X,y_pred)\n\u001b[1;32m----> 7\u001b[0m dw,db\u001b[38;5;241m=\u001b[39m\u001b[43mcompute_gradients\u001b[49m\u001b[43m(\u001b[49m\u001b[43mX\u001b[49m\u001b[43m,\u001b[49m\u001b[43my_train\u001b[49m\u001b[43m,\u001b[49m\u001b[43my_pred\u001b[49m\u001b[43m)\u001b[49m\n\u001b[0;32m      8\u001b[0m \u001b[38;5;28mself\u001b[39m\u001b[38;5;241m.\u001b[39mweights\u001b[38;5;241m=\u001b[39m\u001b[38;5;28mself\u001b[39m\u001b[38;5;241m.\u001b[39mweights\u001b[38;5;241m-\u001b[39mdw\u001b[38;5;241m*\u001b[39mlr\n\u001b[0;32m      9\u001b[0m \u001b[38;5;28mself\u001b[39m\u001b[38;5;241m.\u001b[39mbias\u001b[38;5;241m=\u001b[39m\u001b[38;5;28mself\u001b[39m\u001b[38;5;241m.\u001b[39mbias\u001b[38;5;241m-\u001b[39mdb\u001b[38;5;241m*\u001b[39mlr\n",
      "\u001b[1;31mTypeError\u001b[0m: compute_gradients() missing 1 required positional argument: 'y_pred'"
     ]
    }
   ],
   "source": [
    "p=Perceptron()\n",
    "p.initialize_parameters(y_train)\n",
    "p.train(y_train,5)"
   ]
  },
  {
   "cell_type": "code",
   "execution_count": null,
   "id": "385fbe90-2973-4d69-ba65-d8b4b9440860",
   "metadata": {},
   "outputs": [],
   "source": []
  }
 ],
 "metadata": {
  "kernelspec": {
   "display_name": "Python 3 (ipykernel)",
   "language": "python",
   "name": "python3"
  },
  "language_info": {
   "codemirror_mode": {
    "name": "ipython",
    "version": 3
   },
   "file_extension": ".py",
   "mimetype": "text/x-python",
   "name": "python",
   "nbconvert_exporter": "python",
   "pygments_lexer": "ipython3",
   "version": "3.11.9"
  }
 },
 "nbformat": 4,
 "nbformat_minor": 5
}
